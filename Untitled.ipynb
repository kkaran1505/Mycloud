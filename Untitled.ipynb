{
 "cells": [
  {
   "cell_type": "code",
   "execution_count": 32,
   "id": "c4a27712",
   "metadata": {},
   "outputs": [
    {
     "ename": "SyntaxError",
     "evalue": "invalid syntax (366813178.py, line 9)",
     "output_type": "error",
     "traceback": [
      "\u001b[1;36m  File \u001b[1;32m\"C:\\Users\\MY\\AppData\\Local\\Temp\\ipykernel_4588\\366813178.py\"\u001b[1;36m, line \u001b[1;32m9\u001b[0m\n\u001b[1;33m    else:\u001b[0m\n\u001b[1;37m    ^\u001b[0m\n\u001b[1;31mSyntaxError\u001b[0m\u001b[1;31m:\u001b[0m invalid syntax\n"
     ]
    }
   ],
   "source": [
    "#def calculator():\n",
    "print(\"Welcome to Calculator\")\n",
    "operation = input(\" Please type the maths operator you want to use:\\n + for Addition \\n - for Subtraction  \\n * for Multiplication \\n  / for Division \\n ** for power \\n % for module \\n Enter your Choice \")\n",
    "num1 = int(input(\"Enter First Number\"))\n",
    "num2 = int(input(\"Enter Second Number\"))\n",
    "if operation == '+':\n",
    "        if num1 == 56 and num2 == 9:\n",
    "         print(\"56+9=77\")\n",
    "         else:\n",
    "            print(f\"{num1}+{num2}={num1+num2}\")\n",
    "    elif operation == '*':\n",
    "        if num1 == 45 and num2 == 3:\n",
    "            print(\"45*3=555\")\n",
    "        else:\n",
    "            print(f\"{num1}*{num2}={num1*num2}\")\n",
    " elif operation == '/':\n",
    "        if num1 == 56 and num2 == 6:\n",
    "            print(\"56/6=4\")\n",
    "        else:\n",
    "            print(f\"{num1}/{num2}={num1/num2}\")\n",
    "        elif operation == '**':\n",
    "        print(f\"{num1}**{num2}={num1**num2}\")\n",
    "        elif operation == '%':\n",
    "        print(f\"{num1}%{num2}={num1%num2}\")\n",
    "else:\n",
    "        print(\"You pressed an invalid key\")\n",
    "''''\n",
    "    again()\n",
    "    def again():\n",
    "        cal_again= input(\"Do you want to calculate again. \\n Type y for Yes and n for No \")\n",
    "        if cal_again == 'y':\n",
    "        calculator()\n",
    "        elif cal_again == 'n':\n",
    "        print(\"See you later\")\n",
    "        else:\n",
    "        again()\n",
    "        \n",
    "         calculator()\n",
    "         \n",
    "''''"
   ]
  },
  {
   "cell_type": "code",
   "execution_count": null,
   "id": "a933a752",
   "metadata": {},
   "outputs": [],
   "source": []
  }
 ],
 "metadata": {
  "kernelspec": {
   "display_name": "Python 3 (ipykernel)",
   "language": "python",
   "name": "python3"
  },
  "language_info": {
   "codemirror_mode": {
    "name": "ipython",
    "version": 3
   },
   "file_extension": ".py",
   "mimetype": "text/x-python",
   "name": "python",
   "nbconvert_exporter": "python",
   "pygments_lexer": "ipython3",
   "version": "3.9.13"
  }
 },
 "nbformat": 4,
 "nbformat_minor": 5
}
