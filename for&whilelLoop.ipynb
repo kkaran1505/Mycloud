{
 "cells": [
  {
   "cell_type": "code",
   "execution_count": 1,
   "id": "6acf4603",
   "metadata": {},
   "outputs": [],
   "source": [
    "a=20"
   ]
  },
  {
   "cell_type": "code",
   "execution_count": null,
   "id": "7db5584e",
   "metadata": {},
   "outputs": [],
   "source": []
  },
  {
   "cell_type": "code",
   "execution_count": 2,
   "id": "e24bb086",
   "metadata": {},
   "outputs": [
    {
     "name": "stdout",
     "output_type": "stream",
     "text": [
      "2153333549968\n"
     ]
    }
   ],
   "source": [
    "print(id(a))"
   ]
  },
  {
   "cell_type": "code",
   "execution_count": 3,
   "id": "cfc5c611",
   "metadata": {},
   "outputs": [],
   "source": [
    "b=300"
   ]
  },
  {
   "cell_type": "code",
   "execution_count": 4,
   "id": "a1052a61",
   "metadata": {},
   "outputs": [
    {
     "name": "stdout",
     "output_type": "stream",
     "text": [
      "2153419156560\n"
     ]
    }
   ],
   "source": [
    "print(id(b))"
   ]
  },
  {
   "cell_type": "code",
   "execution_count": 5,
   "id": "d1fde8e9",
   "metadata": {},
   "outputs": [
    {
     "name": "stdout",
     "output_type": "stream",
     "text": [
      "111,hill,200000\n"
     ]
    }
   ],
   "source": [
    "id=111\n",
    "name='hill'\n",
    "salary=200000\n",
    "str='{},{},{}'.format(id,name,salary)\n",
    "print(str)"
   ]
  },
  {
   "cell_type": "code",
   "execution_count": 1,
   "id": "e5a71ab2",
   "metadata": {},
   "outputs": [
    {
     "data": {
      "text/plain": [
       "7.7"
      ]
     },
     "execution_count": 1,
     "metadata": {},
     "output_type": "execute_result"
    }
   ],
   "source": [
    "4.5+3.2\n"
   ]
  },
  {
   "cell_type": "code",
   "execution_count": 2,
   "id": "0669c74d",
   "metadata": {},
   "outputs": [
    {
     "data": {
      "text/plain": [
       "21.0"
      ]
     },
     "execution_count": 2,
     "metadata": {},
     "output_type": "execute_result"
    }
   ],
   "source": [
    "16.5+4.5"
   ]
  },
  {
   "cell_type": "code",
   "execution_count": 3,
   "id": "1bbe6dfd",
   "metadata": {},
   "outputs": [
    {
     "data": {
      "text/plain": [
       "20.8"
      ]
     },
     "execution_count": 3,
     "metadata": {},
     "output_type": "execute_result"
    }
   ],
   "source": [
    "18.5+2.3"
   ]
  },
  {
   "cell_type": "code",
   "execution_count": 4,
   "id": "18070a9d",
   "metadata": {},
   "outputs": [
    {
     "data": {
      "text/plain": [
       "0.10000000000000853"
      ]
     },
     "execution_count": 4,
     "metadata": {},
     "output_type": "execute_result"
    }
   ],
   "source": [
    "96.7-96.6"
   ]
  },
  {
   "cell_type": "code",
   "execution_count": 6,
   "id": "4a8dbb6c",
   "metadata": {},
   "outputs": [
    {
     "data": {
      "text/plain": [
       "1.3"
      ]
     },
     "execution_count": 6,
     "metadata": {},
     "output_type": "execute_result"
    }
   ],
   "source": [
    "round(4.5-3.2,2)"
   ]
  },
  {
   "cell_type": "code",
   "execution_count": 2,
   "id": "81f27203",
   "metadata": {},
   "outputs": [
    {
     "name": "stdout",
     "output_type": "stream",
     "text": [
      "*\n",
      "**\n",
      "***\n",
      "****\n",
      "*****\n",
      "******\n",
      "*******\n",
      "********\n",
      "*********\n",
      "**********\n"
     ]
    }
   ],
   "source": [
    "num=1\n",
    "while num<=10:\n",
    " print(\"*\"*num)\n",
    " num+=1"
   ]
  },
  {
   "cell_type": "code",
   "execution_count": 5,
   "id": "01069058",
   "metadata": {},
   "outputs": [
    {
     "name": "stdout",
     "output_type": "stream",
     "text": [
      "**********\n",
      "*********\n",
      "********\n",
      "*******\n",
      "******\n",
      "*****\n",
      "****\n",
      "***\n",
      "**\n",
      "*\n"
     ]
    }
   ],
   "source": [
    "num=10\n",
    "while num>0:\n",
    " print(\"*\"*num)\n",
    " num-=1"
   ]
  },
  {
   "cell_type": "code",
   "execution_count": 7,
   "id": "fa2e1790",
   "metadata": {},
   "outputs": [
    {
     "name": "stdout",
     "output_type": "stream",
     "text": [
      "Enter 0 or 1 \n",
      "1\n",
      "*\n",
      "**\n",
      "***\n",
      "****\n",
      "*****\n",
      "******\n",
      "*******\n",
      "********\n",
      "*********\n",
      "**********\n"
     ]
    }
   ],
   "source": [
    "num= int(input(\"Enter 0 or 1: \"))\n",
    "a=1\n",
    "b=9\n",
    "if num==1:\n",
    "    while a<=10:\n",
    "        print(\"*\"*a)\n",
    "        a+=1\n",
    "elif num==0:\n",
    "    while b>0:\n",
    "        print(\"*\"*b)\n",
    "        b-=1\n",
    "else:\n",
    "    print(\"You have entered wrong number\")"
   ]
  },
  {
   "cell_type": "code",
   "execution_count": 18,
   "id": "3e0f5802",
   "metadata": {},
   "outputs": [
    {
     "name": "stdout",
     "output_type": "stream",
     "text": [
      "      1\r\n",
      "     12\r\n",
      "    123\r\n",
      "   1234\r\n",
      "  12345\r\n",
      " 123456\r\n"
     ]
    }
   ],
   "source": [
    "def pyramid(n):\n",
    "    i=1\n",
    "    while i<=n:\n",
    "        j=1\n",
    "        k=n-i+1\n",
    "        while k>0:\n",
    "            print(\" \",end=\"\")\n",
    "            k=k-1\n",
    "        while j<=i:\n",
    "            print(j,end=\"\")\n",
    "            j=j+1\n",
    "        print(\"\\r\")\n",
    "        i=i+1\n",
    "        \n",
    "pyramid(6)"
   ]
  },
  {
   "cell_type": "code",
   "execution_count": 9,
   "id": "9b7d9a7c",
   "metadata": {},
   "outputs": [
    {
     "name": "stdout",
     "output_type": "stream",
     "text": [
      "2\n",
      "3\n",
      "4\n",
      "5\n"
     ]
    }
   ],
   "source": [
    "for x in range(2, 6):\n",
    "  print(x)"
   ]
  },
  {
   "cell_type": "code",
   "execution_count": 10,
   "id": "cba3b3c8",
   "metadata": {},
   "outputs": [
    {
     "name": "stdout",
     "output_type": "stream",
     "text": [
      "2\n",
      "5\n",
      "8\n",
      "11\n",
      "14\n",
      "17\n",
      "20\n",
      "23\n",
      "26\n",
      "29\n"
     ]
    }
   ],
   "source": [
    "for x in range(2, 30, 3):\n",
    "  print(x)"
   ]
  },
  {
   "cell_type": "code",
   "execution_count": 11,
   "id": "df6034c7",
   "metadata": {},
   "outputs": [
    {
     "name": "stdout",
     "output_type": "stream",
     "text": [
      "0\n",
      "1\n",
      "2\n",
      "3\n",
      "4\n",
      "5\n",
      "Finally finished!\n"
     ]
    }
   ],
   "source": [
    "for x in range(6):\n",
    "  print(x)\n",
    "else:\n",
    "  print(\"Finally finished!\")"
   ]
  },
  {
   "cell_type": "code",
   "execution_count": 12,
   "id": "fd15724d",
   "metadata": {},
   "outputs": [
    {
     "name": "stdout",
     "output_type": "stream",
     "text": [
      "red apple\n",
      "red banana\n",
      "red cherry\n",
      "big apple\n",
      "big banana\n",
      "big cherry\n",
      "tasty apple\n",
      "tasty banana\n",
      "tasty cherry\n"
     ]
    }
   ],
   "source": [
    "adj = [\"red\", \"big\", \"tasty\"]\n",
    "fruits = [\"apple\", \"banana\", \"cherry\"]\n",
    "\n",
    "for x in adj:\n",
    "  for y in fruits:\n",
    "    print(x, y)"
   ]
  },
  {
   "cell_type": "code",
   "execution_count": 19,
   "id": "1ffa210b",
   "metadata": {},
   "outputs": [
    {
     "name": "stdout",
     "output_type": "stream",
     "text": [
      "k\n",
      "u\n",
      "n\n",
      "a\n",
      "l\n"
     ]
    }
   ],
   "source": [
    "a=\"kunal\"\n",
    "for i in a:\n",
    "    print(i)"
   ]
  },
  {
   "cell_type": "code",
   "execution_count": 32,
   "id": "062943c4",
   "metadata": {},
   "outputs": [
    {
     "name": "stdout",
     "output_type": "stream",
     "text": [
      "Enter a number: 7\n",
      "1\n",
      "12\n",
      "123\n",
      "1234\n",
      "12345\n",
      "123456\n"
     ]
    }
   ],
   "source": [
    "n=int(input(\"Enter a number: \"))\n",
    "for i in range(1,n):\n",
    "    for j in range(1,i+1):\n",
    "        print(j,end=\"\")\n",
    "    print()"
   ]
  },
  {
   "cell_type": "code",
   "execution_count": 36,
   "id": "0d97966c",
   "metadata": {},
   "outputs": [
    {
     "name": "stdout",
     "output_type": "stream",
     "text": [
      "1\r\n",
      "12\r\n",
      "123\r\n",
      "1234\r\n"
     ]
    }
   ],
   "source": [
    "def pyr(n):\n",
    "    for i in range(1,n):\n",
    "        for j in range(1,i+1):\n",
    "            print(j,end=\"\")\n",
    "        print(\"\\r\")\n",
    "\n",
    "pyr(5)"
   ]
  },
  {
   "cell_type": "code",
   "execution_count": 37,
   "id": "f3859ed5",
   "metadata": {},
   "outputs": [
    {
     "name": "stdout",
     "output_type": "stream",
     "text": [
      "30\n",
      "28\n",
      "26\n",
      "24\n",
      "22\n"
     ]
    }
   ],
   "source": [
    " for i in range(30,20,-2):\n",
    "        print(i)"
   ]
  },
  {
   "cell_type": "code",
   "execution_count": 5,
   "id": "651eb92b",
   "metadata": {},
   "outputs": [
    {
     "name": "stdout",
     "output_type": "stream",
     "text": [
      "[2, 4, 6, 8, 10, 12, 14, 16, 18]\n"
     ]
    }
   ],
   "source": [
    "l1=[]\n",
    "for i in range(1,20):\n",
    "    if i%2==0:\n",
    "        l1.append(i)\n",
    "#return l1\n",
    "print(l1)"
   ]
  },
  {
   "cell_type": "code",
   "execution_count": 14,
   "id": "b595a858",
   "metadata": {},
   "outputs": [
    {
     "name": "stdout",
     "output_type": "stream",
     "text": [
      "0\n",
      "1\n",
      "2\n",
      "3\n",
      "4\n"
     ]
    }
   ],
   "source": [
    "for i in range(10):\n",
    "    if i>=5:\n",
    "        continue\n",
    "    print(i)"
   ]
  },
  {
   "cell_type": "code",
   "execution_count": 20,
   "id": "70707d23",
   "metadata": {},
   "outputs": [
    {
     "name": "stdout",
     "output_type": "stream",
     "text": [
      "20\n"
     ]
    }
   ],
   "source": [
    "l1=[2, 4, 6, 8, 20, 12, 14, 16, 18]\n",
    "max=0\n",
    "for i in l1:\n",
    "    if i>max:\n",
    "        max=i\n",
    "print(max)\n"
   ]
  },
  {
   "cell_type": "code",
   "execution_count": null,
   "id": "d74177dd",
   "metadata": {},
   "outputs": [],
   "source": [
    "str1='hello world'\n",
    "for i in range(len(str1))"
   ]
  },
  {
   "cell_type": "code",
   "execution_count": null,
   "id": "4f2eb203",
   "metadata": {},
   "outputs": [],
   "source": [
    "my_str = \"Peter Piper Picked A Peck Of Pickled Peppers.\"\n",
    "print(f\"Input: {my_str}\")\n",
    "reversed_words=[]\n",
    "word=\"\"\n",
    "i=len(my_str)-1\n",
    "while i>=0:\n",
    "    if my_str[i]==\" \" or my_str[i]==\".\" :\n",
    "        reversed_words.append(word)\n",
    "        word=\"\"\n",
    "        \n",
    "    else:\n",
    "        word=my_str[i]+word\n",
    "        \n",
    "    i-=1\n",
    "    \n",
    "reversed_words.append(word)\n",
    "\n",
    "#reversed_sentence= ' '.join(reversed_words)\n",
    "#print(reversed_sentence)\n",
    "# initialize an empty string\n",
    "str1 = \"\"\n",
    " \n",
    "    # traverse in the string\n",
    "for ele in reversed_words:\n",
    "        str1 = str1+ \" \"+ele\n",
    " \n",
    "    # return string\n",
    "        #return str1\n",
    "          \n",
    "print(f\"Output:{str1}\")"
   ]
  },
  {
   "cell_type": "code",
   "execution_count": null,
   "id": "d672a4f1",
   "metadata": {},
   "outputs": [],
   "source": [
    "n=len(my_str)\n",
    "sen=\"\"\n",
    "for i in range((n-1),-1,-1):\n",
    "    #print(my_str[i])\n",
    "    sen+=my_str[i]\n",
    "    \n",
    "print(sen)"
   ]
  },
  {
   "cell_type": "code",
   "execution_count": null,
   "id": "43a4795d",
   "metadata": {},
   "outputs": [],
   "source": [
    "input_string = \"Peter Piper Picked A Peck Of Pickled Peppers.\" #Initializing the input_string and an empty list output_string\n",
    "output_string=[]\n",
    "print(f\"Input: {input_string}\")\n",
    "\n",
    "\n",
    "word=\"\"     #Initializing a variable 'word' assigning empty string\n",
    "\n",
    "\n",
    "for char in input_string:   #Loop through each character in input_string\n",
    "   \n",
    "    if char==\" \" or char==\".\":  # If the character is a space or period,add the current word to the output_string list and reset the word string\n",
    "        output_string.append(word)\n",
    "        word=\"\"\n",
    "       \n",
    "    else:   #If the character is not a space or period add it to the current word string\n",
    "        word+=char\n",
    "\n",
    "        \n",
    "print(f\"Output: {output_string}\")#printing the list of input_string"
   ]
  },
  {
   "cell_type": "code",
   "execution_count": null,
   "id": "f4e7b9ec",
   "metadata": {},
   "outputs": [],
   "source": [
    "my_str = \"Peter Piper Picked A Peck Of Pickled Peppers.\"\n",
    "sub_str = \"Pickl\"\n",
    "\n",
    "for i in range(0,len(my_str)):\n",
    "    if my_str[i:i+len(sub_str)] == sub_str:\n",
    "        print(i)"
   ]
  },
  {
   "cell_type": "code",
   "execution_count": null,
   "id": "4bbdd0e0",
   "metadata": {},
   "outputs": [],
   "source": [
    "str1='peter piper picked a peck of pickled peppers.'\n",
    "char=[]\n",
    "counter=0\n",
    "i=0\n",
    "while (len(str1))>i:\n",
    "    char= str1[i]\n",
    "    i+=1\n",
    "    if char=='p':\n",
    "        counter+=1\n",
    "        #break\n",
    "    #else:\n",
    "        #print(\"Character not found\")\n",
    "print(counter)"
   ]
  },
  {
   "cell_type": "code",
   "execution_count": null,
   "id": "a713ba6a",
   "metadata": {},
   "outputs": [],
   "source": [
    "my_str='Write a Python program to find the length of the my_str'\n",
    "i=0\n",
    "while len(my_str)>i:\n",
    "    i+=1\n",
    "    \n",
    "print(i)"
   ]
  },
  {
   "cell_type": "code",
   "execution_count": null,
   "id": "9f52b38d",
   "metadata": {},
   "outputs": [],
   "source": [
    "my_str='Write a Python program to find the length of the my_str'\n",
    "for i in range(len(my_str)):\n",
    "    i+=1\n",
    "    \n",
    "    \n",
    "print(i)"
   ]
  }
 ],
 "metadata": {
  "kernelspec": {
   "display_name": "Python 3 (ipykernel)",
   "language": "python",
   "name": "python3"
  },
  "language_info": {
   "codemirror_mode": {
    "name": "ipython",
    "version": 3
   },
   "file_extension": ".py",
   "mimetype": "text/x-python",
   "name": "python",
   "nbconvert_exporter": "python",
   "pygments_lexer": "ipython3",
   "version": "3.9.13"
  }
 },
 "nbformat": 4,
 "nbformat_minor": 5
}
