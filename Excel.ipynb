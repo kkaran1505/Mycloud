{
 "cells": [
  {
   "cell_type": "code",
   "execution_count": 4,
   "id": "2f117cda",
   "metadata": {},
   "outputs": [],
   "source": [
    "import pandas as pd\n",
    "import numpy as np\n",
    "#df = pd.read_excel( 'C:\\Users\\MY\\Desktop\\Book1.xlsx' )\n",
    "#sum= df[\"Production\"].sum()\n",
    "#print(sum)"
   ]
  },
  {
   "cell_type": "code",
   "execution_count": 2,
   "id": "f5fb5ead",
   "metadata": {},
   "outputs": [],
   "source": [
    "filepath= r\"C:\\Users\\MY\\Desktop\\Book1.xlsx\""
   ]
  },
  {
   "cell_type": "code",
   "execution_count": 5,
   "id": "a8191126",
   "metadata": {},
   "outputs": [],
   "source": [
    "df=pd.read_excel(filepath)"
   ]
  },
  {
   "cell_type": "code",
   "execution_count": 6,
   "id": "5f6e9ef3",
   "metadata": {},
   "outputs": [],
   "source": [
    "sum=df[\"Production\"].sum()"
   ]
  },
  {
   "cell_type": "code",
   "execution_count": 7,
   "id": "61ace3d1",
   "metadata": {},
   "outputs": [
    {
     "name": "stdout",
     "output_type": "stream",
     "text": [
      "28854323\n"
     ]
    }
   ],
   "source": [
    "print(sum)"
   ]
  },
  {
   "cell_type": "code",
   "execution_count": null,
   "id": "d30c87ff",
   "metadata": {},
   "outputs": [],
   "source": []
  }
 ],
 "metadata": {
  "kernelspec": {
   "display_name": "Python 3 (ipykernel)",
   "language": "python",
   "name": "python3"
  },
  "language_info": {
   "codemirror_mode": {
    "name": "ipython",
    "version": 3
   },
   "file_extension": ".py",
   "mimetype": "text/x-python",
   "name": "python",
   "nbconvert_exporter": "python",
   "pygments_lexer": "ipython3",
   "version": "3.9.13"
  }
 },
 "nbformat": 4,
 "nbformat_minor": 5
}
