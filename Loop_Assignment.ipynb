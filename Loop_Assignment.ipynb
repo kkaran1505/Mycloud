{
 "cells": [
  {
   "cell_type": "code",
   "execution_count": 1,
   "id": "883e0c05",
   "metadata": {},
   "outputs": [],
   "source": [
    "#Q. Write a Python program to find the length of the my_str using loop:-   \n",
    "#Input:- 'Write a Python program to find the length of the my_str'   \n",
    "#Output:- 55"
   ]
  },
  {
   "cell_type": "markdown",
   "id": "70429cda",
   "metadata": {},
   "source": [
    "Using **for** Loop"
   ]
  },
  {
   "cell_type": "code",
   "execution_count": 2,
   "id": "68c6d585",
   "metadata": {},
   "outputs": [
    {
     "name": "stdout",
     "output_type": "stream",
     "text": [
      "55\n"
     ]
    }
   ],
   "source": [
    "input_string='Write a Python program to find the length of the my_str'\n",
    "for i in range(len(input_string)): #Loop through length of input_string\n",
    "    i+=1\n",
    "    \n",
    "    \n",
    "print(i)"
   ]
  },
  {
   "cell_type": "markdown",
   "id": "5f53ed3f",
   "metadata": {},
   "source": [
    "Using **while** Loop"
   ]
  },
  {
   "cell_type": "code",
   "execution_count": 3,
   "id": "77028f51",
   "metadata": {},
   "outputs": [
    {
     "name": "stdout",
     "output_type": "stream",
     "text": [
      "55\n"
     ]
    }
   ],
   "source": [
    "input_string='Write a Python program to find the length of the my_str'\n",
    "i=0\n",
    "while len(input_string)>i:\n",
    "    i+=1\n",
    "    \n",
    "print(i)"
   ]
  },
  {
   "cell_type": "code",
   "execution_count": 4,
   "id": "36ca021b",
   "metadata": {},
   "outputs": [],
   "source": [
    "#Q. Write a Python program to find the total number of times letter 'p' is appeared in the below string using loop:-   \n",
    "#Input:- 'peter piper picked a peck of pickled peppers.\\n'   \n",
    "#Output:- 9"
   ]
  },
  {
   "cell_type": "code",
   "execution_count": 5,
   "id": "3ef80f16",
   "metadata": {},
   "outputs": [
    {
     "name": "stdout",
     "output_type": "stream",
     "text": [
      "9\n"
     ]
    }
   ],
   "source": [
    "input_string='peter piper picked a peck of pickled peppers.'\n",
    "counter=0\n",
    "for char in input_string:\n",
    "    if char=='p':\n",
    "        counter+=1\n",
    "        \n",
    "        \n",
    "print(counter)"
   ]
  },
  {
   "cell_type": "code",
   "execution_count": 6,
   "id": "007f702e",
   "metadata": {},
   "outputs": [
    {
     "name": "stdout",
     "output_type": "stream",
     "text": [
      "9\n"
     ]
    }
   ],
   "source": [
    "input_string='peter piper picked a peck of pickled peppers.'\n",
    "char=[]\n",
    "counter=0\n",
    "i=0\n",
    "while (len(input_string))>i:\n",
    "    char= input_string[i]\n",
    "    i+=1\n",
    "    if char=='p':\n",
    "        counter+=1\n",
    "        \n",
    "    \n",
    "print(counter)"
   ]
  },
  {
   "cell_type": "markdown",
   "id": "9669f115",
   "metadata": {},
   "source": [
    "\"\"\"\n",
    "Q. Write a Python Program, to print all the indexes of all occurences of letter 'p' appeared in the string using loop:-   \n",
    "Input:- 'peter piper picked a peck of pickled peppers.'   \n",
    "Output:-   \n",
    "0\n",
    "6\n",
    "8\n",
    "12\n",
    "21\n",
    "29\n",
    "37\n",
    "39\n",
    "40\n",
    "\"\"\""
   ]
  },
  {
   "cell_type": "code",
   "execution_count": 7,
   "id": "4f1cc85c",
   "metadata": {},
   "outputs": [
    {
     "name": "stdout",
     "output_type": "stream",
     "text": [
      "0\n",
      "6\n",
      "8\n",
      "12\n",
      "21\n",
      "29\n",
      "37\n",
      "39\n",
      "40\n"
     ]
    }
   ],
   "source": [
    "input_string = 'peter piper picked a peck of pickled peppers.'\n",
    "n=len(input_string)\n",
    "counter=[]\n",
    "for i in range(0,n):\n",
    "    if input_string[i]=='p':\n",
    "        print(i)\n",
    "        \n",
    "\n",
    "        "
   ]
  },
  {
   "cell_type": "code",
   "execution_count": 8,
   "id": "b115b8c8",
   "metadata": {},
   "outputs": [
    {
     "name": "stdout",
     "output_type": "stream",
     "text": [
      "0\n",
      "6\n",
      "8\n",
      "12\n",
      "21\n",
      "29\n",
      "37\n",
      "39\n",
      "40\n"
     ]
    }
   ],
   "source": [
    "input_string = 'peter piper picked a peck of pickled peppers.'\n",
    "n=len(input_string)-1\n",
    "i=0\n",
    "while i<=n:\n",
    "    if input_string[i]=='p':\n",
    "        print(i)\n",
    "    \n",
    "    i+=1"
   ]
  },
  {
   "cell_type": "code",
   "execution_count": 9,
   "id": "d71c45a3",
   "metadata": {},
   "outputs": [],
   "source": [
    "#Q. Write a python program to find below output using loop:-\n",
    "#Input:- 'peter piper picked a peck of pickled peppers.'\n",
    "#Output:- ['peter','piper','picked','a','peck','of','pickled','peppers']"
   ]
  },
  {
   "cell_type": "code",
   "execution_count": 10,
   "id": "6975ff5a",
   "metadata": {},
   "outputs": [
    {
     "name": "stdout",
     "output_type": "stream",
     "text": [
      "Input: peter piper picked a peck of pickled peppers.\n",
      "Output: ['peter', 'piper', 'picked', 'a', 'peck', 'of', 'pickled', 'peppers']\n"
     ]
    }
   ],
   "source": [
    "input_string = 'peter piper picked a peck of pickled peppers.' #Initializing the \"input_string\" and an empty list \"output_string\"\n",
    "output_string=[]\n",
    "print(f\"Input: {input_string}\")\n",
    "\n",
    "\n",
    "word=\"\"     #Initializing a variable 'word' assigning empty string\n",
    "\n",
    "\n",
    "for char in input_string:   #Loop through each character in input_string\n",
    "   \n",
    "    if char==\" \" or char==\".\":  # If the character is a space or period,add the current word to the output_string list and reset the word string\n",
    "        output_string.append(word)\n",
    "        word=\"\"\n",
    "       \n",
    "    else:   #If the character is not a space or period add it to the current word string\n",
    "        word+=char\n",
    "\n",
    "        \n",
    "print(f\"Output: {output_string}\")#printing the list of input_string"
   ]
  },
  {
   "cell_type": "code",
   "execution_count": 11,
   "id": "7641950a",
   "metadata": {},
   "outputs": [],
   "source": [
    "#Q. Write a python program to find below output using loop:-\n",
    "#Input:- 'peter piper picked a peck of pickled peppers.'\n",
    "#Output:- 'peppers pickled of peck a picked piper peter'"
   ]
  },
  {
   "cell_type": "code",
   "execution_count": 12,
   "id": "a9e9c432",
   "metadata": {},
   "outputs": [
    {
     "name": "stdout",
     "output_type": "stream",
     "text": [
      "Input: peter piper picked A peck of pickled peppers.\n",
      "Output:peppers pickled of peck A picked piper peter \n"
     ]
    }
   ],
   "source": [
    "input_string = \"peter piper picked A peck of pickled peppers.\"\n",
    "print(f\"Input: {input_string}\")\n",
    "word=\"\"\n",
    "sentance=\"\"\n",
    "for char in input_string:\n",
    "    if char==\" \"or char==\".\":\n",
    "        sentance=word+\" \"+sentance\n",
    "        word=\"\"\n",
    "    else:\n",
    "        word= word+char\n",
    "        \n",
    "print(f\"Output:{sentance}\")  "
   ]
  },
  {
   "cell_type": "code",
   "execution_count": 13,
   "id": "034968c5",
   "metadata": {},
   "outputs": [],
   "source": [
    "#Q. Write a python program to find below output using loop:-\n",
    "#Input:- 'peter piper picked a peck of pickled peppers.'\n",
    "#Output:- '.sreppep delkcip fo kcep a dekcip repip retep'"
   ]
  },
  {
   "cell_type": "code",
   "execution_count": 14,
   "id": "c0abeef1",
   "metadata": {},
   "outputs": [
    {
     "name": "stdout",
     "output_type": "stream",
     "text": [
      "Input: peter piper picked A peck of pickled peppers.\n",
      "Output: .sreppep delkcip fo kcep A dekcip repip retep\n"
     ]
    }
   ],
   "source": [
    "input_string = \"peter piper picked A peck of pickled peppers.\"\n",
    "print(f\"Input: {input_string}\")\n",
    "n=len(input_string)\n",
    "sentance=\"\"\n",
    "for i in range((n-1),-1,-1):\n",
    "        sentance+=input_string[i]\n",
    "    \n",
    "print(f\"Output: {sentance}\")"
   ]
  },
  {
   "cell_type": "code",
   "execution_count": 15,
   "id": "07355412",
   "metadata": {},
   "outputs": [],
   "source": [
    "#Q. Write a python program to find below output using loop:-\n",
    "#Input:- 'peter piper picked a peck of pickled peppers.'\n",
    "#Output:- 'retep repip dekcip a kcep fo delkcip sreppep'"
   ]
  },
  {
   "cell_type": "code",
   "execution_count": 16,
   "id": "4bce7927",
   "metadata": {},
   "outputs": [
    {
     "name": "stdout",
     "output_type": "stream",
     "text": [
      "Input: peter piper picked A peck of pickled peppers.\n",
      "Output: retep repip dekcip A kcep fo delkcip sreppep\n"
     ]
    }
   ],
   "source": [
    "input_string = \"peter piper picked A peck of pickled peppers.\"\n",
    "print(f\"Input: {input_string}\")\n",
    "word=\"\"\n",
    "sentance=\"\"\n",
    "for char in input_string:\n",
    "    if char==\" \"or char==\".\":\n",
    "        sentance=sentance+\" \"+word\n",
    "        word=\"\"\n",
    "    else:\n",
    "        word= char+word\n",
    "        \n",
    "print(f\"Output:{sentance}\")  "
   ]
  },
  {
   "cell_type": "code",
   "execution_count": 17,
   "id": "54894ea9",
   "metadata": {},
   "outputs": [],
   "source": [
    "#Q. Write a python program to find below output using loop:-\n",
    "#Input:- 'peter piper picked a peck of pickled peppers.'\n",
    "#Output:- 'Peter Piper Picked A Peck Of Pickled Peppers'"
   ]
  },
  {
   "cell_type": "code",
   "execution_count": 18,
   "id": "a7d43977",
   "metadata": {},
   "outputs": [
    {
     "name": "stdout",
     "output_type": "stream",
     "text": [
      "Input: peter piper picked A peck of pickled peppers.\n",
      "Output:Peter Piper Picked A Peck Of Pickled Peppers \n"
     ]
    }
   ],
   "source": [
    "input_string = \"peter piper picked A peck of pickled peppers.\"\n",
    "print(f\"Input: {input_string}\")\n",
    "word=\"\"\n",
    "sentance=\"\"\n",
    "for char in input_string:\n",
    "    if char==\" \"or char==\".\":\n",
    "        sentance+=word.capitalize()+\" \"\n",
    "        word=\"\"\n",
    "    else:\n",
    "        word= word+char\n",
    "        \n",
    "print(f\"Output:{sentance}\")  "
   ]
  },
  {
   "cell_type": "markdown",
   "id": "1b565a1a",
   "metadata": {},
   "source": [
    "Using **chr() ord()** Function"
   ]
  },
  {
   "cell_type": "code",
   "execution_count": 19,
   "id": "b7593c54",
   "metadata": {},
   "outputs": [
    {
     "name": "stdout",
     "output_type": "stream",
     "text": [
      "Input: peter piper picked a peck of pickled peppers.\n",
      "Output: Peter Piper Picked A Peck Of Pickled Peppers.\n"
     ]
    }
   ],
   "source": [
    "input_string = 'peter piper picked a peck of pickled peppers.'\n",
    "print(f\"Input: {input_string}\")\n",
    "output = ''\n",
    "i = 0\n",
    "while i < len(input_string):\n",
    "    if i == 0 or input_string[i-1] == ' ':\n",
    "        output += chr(ord(input_string[i]) - 32)\n",
    "    else:\n",
    "        output += input_string[i]\n",
    "    i += 1\n",
    "print(f\"Output: {output}\")"
   ]
  },
  {
   "cell_type": "code",
   "execution_count": 20,
   "id": "e844dea6",
   "metadata": {},
   "outputs": [],
   "source": [
    "#Q. Write a python program to find below output using loop:-\n",
    "#Input:- 'Peter Piper Picked A Peck Of Pickled Peppers.'\n",
    "#Output:- 'peter piper picked a peck of pickled peppers'"
   ]
  },
  {
   "cell_type": "code",
   "execution_count": 21,
   "id": "b8c5a6a9",
   "metadata": {},
   "outputs": [
    {
     "name": "stdout",
     "output_type": "stream",
     "text": [
      "Input: Peter Piper Picked A Peck Of Pickled Peppers.\n",
      "Output:peter piper picked a peck of pickled peppers \n"
     ]
    }
   ],
   "source": [
    "input_string = \"Peter Piper Picked A Peck Of Pickled Peppers.\"\n",
    "print(f\"Input: {input_string}\")\n",
    "word=\"\"\n",
    "sentance=\"\"\n",
    "for char in input_string:\n",
    "    if char==\" \"or char==\".\":\n",
    "        sentance+=word.lower()+\" \"\n",
    "        word=\"\"\n",
    "    else:\n",
    "        word= word+char\n",
    "        \n",
    "print(f\"Output:{sentance}\") "
   ]
  },
  {
   "cell_type": "markdown",
   "id": "658fc831",
   "metadata": {},
   "source": [
    "Using **chr() ord()** Function"
   ]
  },
  {
   "cell_type": "code",
   "execution_count": 22,
   "id": "583d82be",
   "metadata": {},
   "outputs": [
    {
     "name": "stdout",
     "output_type": "stream",
     "text": [
      "Input: Peter Piper Picked A Peck Of Pickled Peppers.\n",
      "Output:peter piper picked a peck of pickled peppers.\n"
     ]
    }
   ],
   "source": [
    "input_string = \"Peter Piper Picked A Peck Of Pickled Peppers.\"\n",
    "print(f\"Input: {input_string}\")\n",
    "sentance=\"\"\n",
    "i = 0\n",
    "while i < len(input_string):\n",
    "    if i == 0 or input_string[i-1] == ' ':\n",
    "        sentance += chr(ord(input_string[i]) + 32)\n",
    "    else:\n",
    "        sentance += input_string[i]\n",
    "    i += 1\n",
    "print(f\"Output:{sentance}\") "
   ]
  },
  {
   "cell_type": "code",
   "execution_count": 23,
   "id": "4914fb7e",
   "metadata": {},
   "outputs": [],
   "source": [
    "#Q. Write a python program to implement index method using loop. If sub_str is found in my_str then it will print the index\n",
    "#of first occurrence of first character of matching string in my_str:-\n",
    "#Input:- my_str = 'Peter Piper Picked A Peck Of Pickled Peppers.' ,\n",
    "#sub_str = 'Pickl'\n",
    "#Output:- 29"
   ]
  },
  {
   "cell_type": "code",
   "execution_count": 24,
   "id": "980f76c1",
   "metadata": {},
   "outputs": [
    {
     "name": "stdout",
     "output_type": "stream",
     "text": [
      "29\n"
     ]
    }
   ],
   "source": [
    "input_string = \"Peter Piper Picked A Peck Of Pickled Peppers.\"\n",
    "sub_str = \"Pickled\"\n",
    "\n",
    "for i in range(0,len(input_string)):\n",
    "    if input_string[i:i+len(sub_str)] == sub_str:\n",
    "        print(i)"
   ]
  },
  {
   "cell_type": "code",
   "execution_count": 25,
   "id": "5e64cc72",
   "metadata": {},
   "outputs": [],
   "source": [
    "#Q. Write a python program to implement replace method using loop. If sub_str is found in my_str then it will replace the first\n",
    "#occurrence of sub_str with new_str else it will will print sub_str not found:-\n",
    "#Input:- my_str = 'Peter Piper Picked A Peck Of Pickled Peppers.' ,\n",
    "#sub_str = 'Peck' , new_str = 'Pack'\n",
    "#Output:- 'Peter Piper Picked A Pack Of Pickled Peppers.'"
   ]
  },
  {
   "cell_type": "code",
   "execution_count": 26,
   "id": "08545305",
   "metadata": {},
   "outputs": [
    {
     "name": "stdout",
     "output_type": "stream",
     "text": [
      "Input: Peter Piper Picked A Peck Of Pickled Peppers.\n",
      "Output: Peter Piper Picked A Pack Of Pickled Peppers.\n"
     ]
    }
   ],
   "source": [
    "input_string = 'Peter Piper Picked A Peck Of Pickled Peppers.'\n",
    "print(f\"Input: {input_string}\")\n",
    "sub_str = 'Peck'\n",
    "new_str = 'Pack'\n",
    "\n",
    "start = 0\n",
    "i = 0\n",
    "while start < len(input_string) :\n",
    "    if input_string[start] == sub_str[i]:\n",
    "        i += 1\n",
    "        if i == len(sub_str):\n",
    "            input_string = input_string[:start - i + 1] + new_str + input_string[start + 1:]\n",
    "            break\n",
    "    else:\n",
    "        start -= i\n",
    "        i = 0\n",
    "    start += 1\n",
    "\n",
    "print(f\"Output: {input_string}\")"
   ]
  },
  {
   "cell_type": "code",
   "execution_count": 27,
   "id": "9321ca89",
   "metadata": {},
   "outputs": [],
   "source": [
    "#Q. Write a python program to find below output (implements rjust and ljust) using loop:-\n",
    "#Input:- 'Peter Piper Picked A Peck Of Pickled Peppers.' , sub_str ='Peck' ,\n",
    "#Output:- '*********************Peck********************'"
   ]
  },
  {
   "cell_type": "code",
   "execution_count": 28,
   "id": "39c0b42c",
   "metadata": {},
   "outputs": [
    {
     "name": "stdout",
     "output_type": "stream",
     "text": [
      "Input: Peter Piper Picked A Peck Of Pickled Peppers.\n",
      "Output:- *********************Peck********************\n"
     ]
    }
   ],
   "source": [
    "input_string = 'Peter Piper Picked A Peck Of Pickled Peppers.'\n",
    "print(f\"Input: {input_string}\")\n",
    "sub_str = 'Peck'\n",
    "out = ''\n",
    "for i in range(len(input_string)):\n",
    "    if input_string[i:i+len(sub_str)] == sub_str:\n",
    "               found_index = i\n",
    "left_side = found_index * '*' + sub_str\n",
    "print(f\"Output:- {left_side + (len(input_string) - found_index - len(sub_str)) * '*'}\")"
   ]
  },
  {
   "cell_type": "code",
   "execution_count": 29,
   "id": "ecf25835",
   "metadata": {},
   "outputs": [],
   "source": [
    "#Q. Write a python program to find below output using loop:-\n",
    "#Input:- 'This is Python class' , sep = ' is' ,\n",
    "#Output:- [ 'This' , 'is' , 'Python class' ]"
   ]
  },
  {
   "cell_type": "code",
   "execution_count": 30,
   "id": "6cd13256",
   "metadata": {},
   "outputs": [
    {
     "name": "stdout",
     "output_type": "stream",
     "text": [
      "Input: This is Python class,sep=  is\n",
      "Output: ['This', 'is', 'Python class']\n"
     ]
    }
   ],
   "source": [
    "input_string = 'This is Python class'\n",
    "print(f\"Input: {input_string}\",end=\",\")\n",
    "sep = ' is'\n",
    "print(f\"sep= {sep}\")\n",
    "\n",
    "temp_str = ''\n",
    "out_list = []\n",
    "i = 0\n",
    "while i < len(input_string):\n",
    "    if input_string[i:i+len(sep)] == sep:\n",
    "        out_list.append(temp_str)\n",
    "        out_list.append(sep[1:])\n",
    "        temp_str = ''\n",
    "        i = i + len(sep) + 1\n",
    "    else:\n",
    "        temp_str += input_string[i]\n",
    "        i += 1\n",
    "\n",
    "out_list.append(temp_str)\n",
    "print(f\"Output: {out_list}\")"
   ]
  },
  {
   "cell_type": "markdown",
   "id": "783b2f9c",
   "metadata": {},
   "source": [
    "# End of Loop Assignment"
   ]
  },
  {
   "cell_type": "code",
   "execution_count": null,
   "id": "86cace82",
   "metadata": {},
   "outputs": [],
   "source": []
  }
 ],
 "metadata": {
  "kernelspec": {
   "display_name": "Python 3 (ipykernel)",
   "language": "python",
   "name": "python3"
  },
  "language_info": {
   "codemirror_mode": {
    "name": "ipython",
    "version": 3
   },
   "file_extension": ".py",
   "mimetype": "text/x-python",
   "name": "python",
   "nbconvert_exporter": "python",
   "pygments_lexer": "ipython3",
   "version": "3.9.13"
  }
 },
 "nbformat": 4,
 "nbformat_minor": 5
}
