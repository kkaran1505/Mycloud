{
 "cells": [
  {
   "cell_type": "code",
   "execution_count": 2,
   "id": "7173bd3c",
   "metadata": {},
   "outputs": [
    {
     "name": "stdout",
     "output_type": "stream",
     "text": [
      "Welcome to Calculator\n",
      " Please type the maths operator you want to use:\n",
      " + for Addition \n",
      " - for Subtraction  \n",
      " * for Multiplication \n",
      "  / for Division \n",
      " ** for power \n",
      " % for module \n",
      " Enter your Choice *\n",
      "Enter First Number15\n",
      "Enter Second Number2\n",
      "15*2=30\n",
      "Do you want to calculate again. \n",
      " Type y for Yes and n for No y\n",
      "Welcome to Calculator\n",
      " Please type the maths operator you want to use:\n",
      " + for Addition \n",
      " - for Subtraction  \n",
      " * for Multiplication \n",
      "  / for Division \n",
      " ** for power \n",
      " % for module \n",
      " Enter your Choice /\n",
      "Enter First Number56\n",
      "Enter Second Number6\n",
      "56/6=4\n",
      "Do you want to calculate again. \n",
      " Type y for Yes and n for No n\n",
      "See you later\n"
     ]
    }
   ],
   "source": [
    "def calculator():\n",
    "    print(\"Welcome to Calculator\")\n",
    "    operation = input(\" Please type the maths operator you want to use:\\n + for Addition \\n - for Subtraction  \\n * for Multiplication \\n  / for Division \\n ** for power \\n % for module \\n Enter your Choice \")\n",
    "    \n",
    "    num1 = int(input(\"Enter First Number\"))\n",
    "    num2 = int(input(\"Enter Second Number\"))\n",
    "    \n",
    "    \n",
    "    \n",
    "    if operation == '+':\n",
    "        if num1 == 56 and num2 == 9:\n",
    "            print(\"56+9=77\")\n",
    "        else:\n",
    "            print(f\"{num1}+{num2}={num1+num2}\")\n",
    "    elif operation == '*':\n",
    "        if num1 == 45 and num2 == 3:\n",
    "            print(\"45*3=555\")\n",
    "        else:\n",
    "            print(f\"{num1}*{num2}={num1*num2}\")\n",
    "    elif operation == '/':\n",
    "        if num1 == 56 and num2 == 6:\n",
    "            print(\"56/6=4\")\n",
    "        else:\n",
    "            print(f\"{num1}/{num2}={num1/num2}\")\n",
    "    elif operation == '**':\n",
    "        print(f\"{num1}**{num2}={num1**num2}\")\n",
    "    elif operation == '%':\n",
    "        print(f\"{num1}%{num2}={num1%num2}\")\n",
    "    else:\n",
    "        print(\"You pressed an invalid key\")\n",
    "    again()\n",
    "\n",
    "def again():\n",
    "        cal_again= input(\"Do you want to calculate again. \\n Type Y for Yes and N for No \")\n",
    "        \n",
    "        \n",
    "        if cal_again == 'Y':\n",
    "            calculator()\n",
    "        elif cal_again == 'N':\n",
    "            print(\"See you later\")\n",
    "        else:\n",
    "            again()\n",
    "\n",
    "calculator()"
   ]
  },
  {
   "cell_type": "code",
   "execution_count": null,
   "id": "f4aeaa95",
   "metadata": {},
   "outputs": [],
   "source": []
  }
 ],
 "metadata": {
  "kernelspec": {
   "display_name": "Python 3 (ipykernel)",
   "language": "python",
   "name": "python3"
  },
  "language_info": {
   "codemirror_mode": {
    "name": "ipython",
    "version": 3
   },
   "file_extension": ".py",
   "mimetype": "text/x-python",
   "name": "python",
   "nbconvert_exporter": "python",
   "pygments_lexer": "ipython3",
   "version": "3.9.13"
  }
 },
 "nbformat": 4,
 "nbformat_minor": 5
}
