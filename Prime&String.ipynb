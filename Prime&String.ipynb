{
 "cells": [
  {
   "cell_type": "code",
   "execution_count": 3,
   "id": "dd2f3ce3",
   "metadata": {},
   "outputs": [
    {
     "name": "stdout",
     "output_type": "stream",
     "text": [
      "Enter your number: 59\n",
      "This number is prime\n"
     ]
    }
   ],
   "source": [
    "num = int(input(\"Enter your number: \"))\n",
    "prime = True\n",
    "for i in range(2, num):\n",
    "    if(num%i == 0):\n",
    "        prime = False\n",
    "        break\n",
    "if prime:\n",
    "    print(\"This number is prime\")\n",
    "else:\n",
    "    print(\"This number is not a prime\")"
   ]
  },
  {
   "cell_type": "code",
   "execution_count": 4,
   "id": "72be6afe",
   "metadata": {},
   "outputs": [
    {
     "name": "stdout",
     "output_type": "stream",
     "text": [
      "Enter First Number:25\n",
      "Enter Second Number:24\n",
      "Sum Of 25 and 24  is 49\n"
     ]
    }
   ],
   "source": [
    "N = input(\"Enter First Number:\")\n",
    "M = input(\"Enter Second Number:\")\n",
    "S= int(N) + int(M)\n",
    "print('Sum Of ' +str(N), 'and ' +str(M),' is ' +str(S))"
   ]
  },
  {
   "cell_type": "code",
   "execution_count": 5,
   "id": "1b5f1f33",
   "metadata": {},
   "outputs": [
    {
     "name": "stdout",
     "output_type": "stream",
     "text": [
      "69\n",
      "Focuss\n",
      "Fcs\n",
      "Focussed on Brand building and Public relations and marketing efforts\n",
      "Focuss\n",
      "Focussed on Brand building and Public relations and marketing efforts\n",
      "Fcse nBadbidn n ulcrltosadmreigefrs\n",
      "stroffe gnitekram dna snoitaler cilbuP dna gnidliub dnarB no dessucoF\n",
      "False\n",
      "True\n",
      "4\n",
      "FOCUSSED ON BRAND BUILDING AND PUBLIC RELATIONS AND MARKETING EFFORTS\n",
      "focussed on brand building and public relations and marketing efforts\n",
      "Focussed at Brand building and Public relatiats and marketing efforts\n"
     ]
    }
   ],
   "source": [
    "mystr = \"Focussed on Brand building and Public relations and marketing efforts\"\n",
    "print(len(mystr))#Print no of character in mystr\n",
    "print(mystr[0:6])#Print First 5 character of mystr\n",
    "print(mystr[0:6:2])#Print alternate characters from start upto 5th character\n",
    "print(mystr[0:])#blank after : will automatically take the no of length of mystr\n",
    "print(mystr[:6])# Blank before : will take the value 0 by default\n",
    "print(mystr[ : :])# By default it take 0:Full lrngth:1\n",
    "print(mystr[ : :2])# skip one alternate char from mystr\n",
    "print(mystr[ : :-1])# Negative index rad char from the end\n",
    "print(mystr.isalnum())# check wheathe mystr is alpha numeric\n",
    "print(mystr.endswith(\"efforts\"))#check wether mystr ends with \"efforts\"\n",
    "print(mystr.count(\"e\"))#count no of \"e\" in mystr\n",
    "print(mystr.upper())# change entire string to upper case\n",
    "print(mystr.lower())#change entire string to lower case\n",
    "print(mystr.replace(\"on\" , \"at\"))#Replace \"on\" with \"at\""
   ]
  },
  {
   "cell_type": "code",
   "execution_count": 7,
   "id": "694d741f",
   "metadata": {},
   "outputs": [
    {
     "name": "stdout",
     "output_type": "stream",
     "text": [
      "What is your name? KK\n",
      "Hi KK\n",
      "There is a msg for you! ya\n",
      "You are awesome KK\n"
     ]
    }
   ],
   "source": [
    "name = input('What is your name? ')\n",
    "print(\"Hi \" + name)\n",
    "input('There is a msg for you! ')\n",
    "print ('You are awesome ' + name)"
   ]
  },
  {
   "cell_type": "code",
   "execution_count": null,
   "id": "a52e9bea",
   "metadata": {},
   "outputs": [],
   "source": []
  }
 ],
 "metadata": {
  "kernelspec": {
   "display_name": "Python 3 (ipykernel)",
   "language": "python",
   "name": "python3"
  },
  "language_info": {
   "codemirror_mode": {
    "name": "ipython",
    "version": 3
   },
   "file_extension": ".py",
   "mimetype": "text/x-python",
   "name": "python",
   "nbconvert_exporter": "python",
   "pygments_lexer": "ipython3",
   "version": "3.9.13"
  }
 },
 "nbformat": 4,
 "nbformat_minor": 5
}
