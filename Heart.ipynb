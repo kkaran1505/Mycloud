{
 "cells": [
  {
   "cell_type": "code",
   "execution_count": 1,
   "id": "5e3ec4a3",
   "metadata": {},
   "outputs": [
    {
     "name": "stdout",
     "output_type": "stream",
     "text": [
      "<turtle.Turtle object at 0x000001B074896220>\n"
     ]
    }
   ],
   "source": [
    "import turtle\n",
    "t=turtle.Turtle()\n",
    "t.color(\"red\")\n",
    "t.begin_fill()\n",
    "t.fillcolor(\"red\")\n",
    "t.left(140)\n",
    "t.forward(180)\n",
    "t.circle(-90,200)\n",
    "t.left(120)\n",
    "\n",
    "\n",
    "t.setheading(60)\n",
    "t.circle(-90,200)\n",
    "t.forward(180)\n",
    "t.end_fill()\n",
    "print(t)\n"
   ]
  },
  {
   "cell_type": "code",
   "execution_count": null,
   "id": "20dd6d16",
   "metadata": {},
   "outputs": [],
   "source": []
  },
  {
   "cell_type": "code",
   "execution_count": null,
   "id": "aa09f282",
   "metadata": {},
   "outputs": [],
   "source": []
  }
 ],
 "metadata": {
  "kernelspec": {
   "display_name": "Python 3 (ipykernel)",
   "language": "python",
   "name": "python3"
  },
  "language_info": {
   "codemirror_mode": {
    "name": "ipython",
    "version": 3
   },
   "file_extension": ".py",
   "mimetype": "text/x-python",
   "name": "python",
   "nbconvert_exporter": "python",
   "pygments_lexer": "ipython3",
   "version": "3.9.13"
  }
 },
 "nbformat": 4,
 "nbformat_minor": 5
}
